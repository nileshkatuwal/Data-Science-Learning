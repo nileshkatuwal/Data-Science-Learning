{
 "cells": [
  {
   "cell_type": "code",
   "execution_count": 13,
   "metadata": {},
   "outputs": [],
   "source": [
    "import requests\n",
    "from bs4 import BeautifulSoup\n",
    "import pandas as pd\n",
    "\n",
    "url = \"https://www.w3schools.com/sql/sql_select.asp\"\n",
    "response = requests.get(url)\n",
    "html_content = response.content"
   ]
  },
  {
   "cell_type": "code",
   "execution_count": 14,
   "metadata": {},
   "outputs": [],
   "source": [
    "\n",
    "soup = BeautifulSoup(html_content, 'html.parser')"
   ]
  },
  {
   "cell_type": "code",
   "execution_count": 15,
   "metadata": {},
   "outputs": [],
   "source": [
    "table = soup.find('table')"
   ]
  },
  {
   "cell_type": "code",
   "execution_count": 17,
   "metadata": {},
   "outputs": [
    {
     "name": "stdout",
     "output_type": "stream",
     "text": [
      "  CustomerID                        CustomerName         ContactName                        Address         City PostalCode  Country\n",
      "0          1                 Alfreds Futterkiste        Maria Anders                  Obere Str. 57       Berlin      12209  Germany\n",
      "1          2  Ana Trujillo Emparedados y helados        Ana Trujillo  Avda. de la Constitución 2222  México D.F.      05021   Mexico\n",
      "2          3             Antonio Moreno Taquería      Antonio Moreno                 Mataderos 2312  México D.F.      05023   Mexico\n",
      "3          4                     Around the Horn        Thomas Hardy                120 Hanover Sq.       London    WA1 1DP       UK\n",
      "4          5                  Berglunds snabbköp  Christina Berglund                 Berguvsvägen 8        Luleå   S-958 22   Sweden\n"
     ]
    }
   ],
   "source": [
    "headers = [th.text.strip() for th in table.find_all('th')]\n",
    "\n",
    "\n",
    "rows = [[td.text.strip() for td in tr.find_all('td')] for tr in table.find_all('tr')[1:]]\n",
    "\n",
    "\n",
    "df = pd.DataFrame(rows, columns=headers)\n",
    "\n",
    "\n",
    "print(df)"
   ]
  }
 ],
 "metadata": {
  "kernelspec": {
   "display_name": "Python 3",
   "language": "python",
   "name": "python3"
  },
  "language_info": {
   "codemirror_mode": {
    "name": "ipython",
    "version": 3
   },
   "file_extension": ".py",
   "mimetype": "text/x-python",
   "name": "python",
   "nbconvert_exporter": "python",
   "pygments_lexer": "ipython3",
   "version": "3.12.4"
  }
 },
 "nbformat": 4,
 "nbformat_minor": 2
}
