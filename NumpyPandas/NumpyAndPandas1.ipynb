{
  "nbformat": 4,
  "nbformat_minor": 0,
  "metadata": {
    "colab": {
      "provenance": []
    },
    "kernelspec": {
      "name": "python3",
      "display_name": "Python 3"
    },
    "language_info": {
      "name": "python"
    }
  },
  "cells": [
    {
      "cell_type": "markdown",
      "source": [
        " # Create a 1-dimensional numpy array with shape (5,)."
      ],
      "metadata": {
        "id": "3s2X6x7-WzsN"
      }
    },
    {
      "cell_type": "code",
      "source": [
        "import numpy as np\n",
        "arr = np.array([1,2,3,4,5])\n",
        "print(arr.shape)\n"
      ],
      "metadata": {
        "colab": {
          "base_uri": "https://localhost:8080/"
        },
        "id": "4zY1fqY2W4bB",
        "outputId": "bc43f48a-7ed2-4a42-c4a4-841c4c54e4f7"
      },
      "execution_count": 2,
      "outputs": [
        {
          "output_type": "stream",
          "name": "stdout",
          "text": [
            "(5,)\n"
          ]
        }
      ]
    },
    {
      "cell_type": "markdown",
      "source": [
        "# Create a 2-dimensional numpy array with shape (4,2)."
      ],
      "metadata": {
        "id": "V_RZSPaMXIm4"
      }
    },
    {
      "cell_type": "code",
      "source": [
        "arr = np.array(\n",
        "\n",
        "   [\n",
        "       [1,2],\n",
        "       [1,2],\n",
        "       [1,2],\n",
        "       [1,2]\n",
        "   ]\n",
        "    )\n",
        "print(arr.shape)"
      ],
      "metadata": {
        "colab": {
          "base_uri": "https://localhost:8080/"
        },
        "id": "cLZtIhI9XPbw",
        "outputId": "f4d9901e-3283-4a81-8f05-7e313f16337b"
      },
      "execution_count": 3,
      "outputs": [
        {
          "output_type": "stream",
          "name": "stdout",
          "text": [
            "(4, 2)\n"
          ]
        }
      ]
    },
    {
      "cell_type": "markdown",
      "source": [
        "# Create a 3-dimensional numpy array with shape (3,2,3)."
      ],
      "metadata": {
        "id": "LXViThMoYsGx"
      }
    },
    {
      "cell_type": "code",
      "source": [
        "arr = np.array(\n",
        "    [\n",
        "        [\n",
        "            [2,3,4],[2,3,4]\n",
        "        ],\n",
        "        [\n",
        "            [3,2,4],[3,2,4]\n",
        "        ],\n",
        "        [\n",
        "            [5,8,6],[3,2,4]\n",
        "        ]\n",
        "    ]\n",
        ")\n",
        "print(arr.shape)"
      ],
      "metadata": {
        "colab": {
          "base_uri": "https://localhost:8080/"
        },
        "id": "_lmmMqeVYwj_",
        "outputId": "965fc447-8e1d-4d1d-877c-453fb400832d"
      },
      "execution_count": 4,
      "outputs": [
        {
          "output_type": "stream",
          "name": "stdout",
          "text": [
            "(3, 2, 3)\n"
          ]
        }
      ]
    },
    {
      "cell_type": "markdown",
      "source": [
        "# Create a 4-dimensional numpy array with shape (6,5,4,3)."
      ],
      "metadata": {
        "id": "dszpdH1jZsuo"
      }
    },
    {
      "cell_type": "code",
      "source": [
        "array_4d = np.random.rand(6, 5, 4, 3)\n",
        "print(\"Shape of the array:\", array_4d.shape)\n",
        "print(\"\\n4D array:\")\n",
        "print(array_4d)"
      ],
      "metadata": {
        "id": "aLUD6VCbbQga",
        "colab": {
          "base_uri": "https://localhost:8080/"
        },
        "outputId": "543616fa-4da4-4c00-f314-415a61e4982d"
      },
      "execution_count": 5,
      "outputs": [
        {
          "output_type": "stream",
          "name": "stdout",
          "text": [
            "Shape of the array: (6, 5, 4, 3)\n",
            "\n",
            "4D array:\n",
            "[[[[9.43071036e-01 2.11341075e-01 8.33351282e-01]\n",
            "   [6.87310851e-01 8.30581369e-02 9.00839704e-01]\n",
            "   [8.33761223e-01 2.21099847e-01 4.97081424e-01]\n",
            "   [5.14592916e-01 1.54999133e-01 1.25605330e-01]]\n",
            "\n",
            "  [[7.10312950e-01 5.48361306e-02 7.54050003e-01]\n",
            "   [7.23086006e-01 7.10116392e-04 4.82143050e-01]\n",
            "   [5.77554408e-01 6.29221028e-01 8.39882033e-01]\n",
            "   [1.52904533e-01 4.87371082e-01 5.79255493e-01]]\n",
            "\n",
            "  [[5.72215987e-01 4.64445063e-01 7.38754908e-01]\n",
            "   [9.95032451e-01 6.85691484e-01 8.17843901e-01]\n",
            "   [7.91909181e-01 1.50033649e-01 9.48838512e-02]\n",
            "   [5.64795140e-02 9.57101808e-01 7.18796457e-01]]\n",
            "\n",
            "  [[2.31769514e-01 9.67135055e-01 9.72167127e-01]\n",
            "   [2.49434649e-01 9.28904550e-01 5.12184248e-01]\n",
            "   [6.52224474e-01 4.56622274e-01 9.89748793e-01]\n",
            "   [3.62246462e-01 4.67337525e-01 4.18924191e-01]]\n",
            "\n",
            "  [[2.74555895e-01 2.46190258e-01 6.66868179e-02]\n",
            "   [1.39972427e-01 8.01715713e-01 1.37649493e-01]\n",
            "   [8.77092720e-01 8.35406059e-01 8.33646183e-01]\n",
            "   [9.68073274e-01 4.20230110e-01 6.30279602e-01]]]\n",
            "\n",
            "\n",
            " [[[4.38035959e-01 3.99127551e-01 6.88622816e-01]\n",
            "   [9.06283076e-01 9.21890307e-01 5.23829269e-02]\n",
            "   [6.16358484e-02 8.54521859e-01 4.27654900e-01]\n",
            "   [2.05287880e-02 9.98452282e-01 5.22738434e-01]]\n",
            "\n",
            "  [[6.84926986e-01 8.68243824e-01 3.49077053e-01]\n",
            "   [3.83818306e-01 8.55424452e-01 2.49251069e-01]\n",
            "   [3.35226391e-01 2.74386730e-01 6.49508842e-01]\n",
            "   [2.00309935e-01 6.90735573e-01 1.89645945e-01]]\n",
            "\n",
            "  [[6.65454028e-01 9.57856458e-01 2.95428643e-01]\n",
            "   [2.74588039e-01 3.98886743e-01 1.99064258e-01]\n",
            "   [9.44405374e-01 8.12051436e-01 4.34062051e-01]\n",
            "   [1.02372320e-01 6.60509382e-01 5.76413584e-01]]\n",
            "\n",
            "  [[2.79005639e-01 1.19348507e-01 8.32881892e-01]\n",
            "   [6.60576294e-01 5.83289707e-01 5.55462418e-01]\n",
            "   [2.05506292e-01 6.24653317e-01 7.58297640e-01]\n",
            "   [6.19088205e-01 9.13384294e-01 7.58904105e-01]]\n",
            "\n",
            "  [[3.12764956e-01 4.27115897e-01 7.14096689e-02]\n",
            "   [7.83696869e-01 5.54363636e-01 5.32085955e-01]\n",
            "   [7.35995607e-01 7.99394410e-01 8.13725367e-01]\n",
            "   [7.76448000e-01 2.46986085e-02 9.54193102e-01]]]\n",
            "\n",
            "\n",
            " [[[8.91997809e-01 3.86698057e-01 1.76314210e-01]\n",
            "   [7.43466716e-01 2.83162295e-01 6.70812564e-01]\n",
            "   [4.54969858e-01 9.56778559e-01 3.47261502e-01]\n",
            "   [5.07250165e-01 8.95929797e-01 7.40498965e-01]]\n",
            "\n",
            "  [[6.76943616e-01 4.59890458e-01 1.09380022e-01]\n",
            "   [4.29342275e-03 9.37249695e-01 3.86337202e-01]\n",
            "   [2.99782144e-01 2.03368819e-01 2.57380678e-01]\n",
            "   [7.98750678e-01 9.14374380e-01 2.71598744e-01]]\n",
            "\n",
            "  [[7.81641377e-01 3.17862513e-01 7.28162314e-01]\n",
            "   [6.45811402e-01 6.65180017e-01 7.03588662e-01]\n",
            "   [3.23864317e-01 6.41851119e-01 8.85757324e-01]\n",
            "   [9.16443870e-01 2.36963887e-01 8.72867586e-02]]\n",
            "\n",
            "  [[8.59906517e-01 3.13054033e-02 4.88688173e-01]\n",
            "   [3.78833179e-01 8.34646496e-02 1.25270905e-01]\n",
            "   [5.22020646e-01 4.21101236e-01 7.22680456e-01]\n",
            "   [4.74030250e-01 9.05874238e-01 4.36447032e-01]]\n",
            "\n",
            "  [[3.01008621e-01 5.35235039e-02 4.27802916e-01]\n",
            "   [7.79958943e-01 2.51059640e-02 9.19913901e-01]\n",
            "   [3.52001432e-01 9.55817576e-01 1.85261622e-01]\n",
            "   [3.82318062e-01 8.46892609e-01 6.93502991e-01]]]\n",
            "\n",
            "\n",
            " [[[1.88272101e-01 2.40094971e-01 2.56403242e-01]\n",
            "   [3.58860432e-01 1.54575351e-01 2.13298713e-02]\n",
            "   [2.15925284e-01 4.46739021e-01 1.86869750e-01]\n",
            "   [4.85295390e-01 5.58745890e-01 5.00781396e-01]]\n",
            "\n",
            "  [[3.22012526e-01 9.11133705e-01 4.97189699e-01]\n",
            "   [9.85229058e-01 2.08008769e-01 2.08008448e-01]\n",
            "   [7.86422755e-01 7.02844501e-01 4.63160212e-02]\n",
            "   [1.33007190e-01 9.40333033e-01 4.42663679e-01]]\n",
            "\n",
            "  [[1.81728931e-01 1.97314288e-01 8.56599293e-01]\n",
            "   [1.29506678e-01 1.40963392e-01 6.53945063e-01]\n",
            "   [4.83375514e-01 3.73876308e-01 3.56728239e-01]\n",
            "   [7.30302454e-01 2.37278298e-01 6.62310242e-01]]\n",
            "\n",
            "  [[9.58070058e-01 4.38787017e-01 7.22735077e-02]\n",
            "   [7.58551892e-01 9.48919882e-01 2.66976946e-01]\n",
            "   [2.20442347e-01 4.57568601e-01 7.42209772e-01]\n",
            "   [5.78541125e-01 5.86170918e-01 1.96778697e-02]]\n",
            "\n",
            "  [[3.08560179e-01 7.46077369e-01 9.43078171e-02]\n",
            "   [4.05635715e-01 8.78686213e-01 8.00294681e-01]\n",
            "   [7.91729389e-01 5.90185403e-01 5.18014794e-01]\n",
            "   [2.34131871e-01 8.81052994e-02 1.42311040e-01]]]\n",
            "\n",
            "\n",
            " [[[4.53198980e-01 8.67088798e-01 6.56331660e-01]\n",
            "   [3.59408213e-01 8.69107052e-01 5.47095265e-01]\n",
            "   [2.16411057e-01 7.14290056e-01 7.03546099e-01]\n",
            "   [4.92844999e-01 5.15673737e-01 1.39074590e-01]]\n",
            "\n",
            "  [[5.88692138e-01 1.69636766e-01 1.24678398e-01]\n",
            "   [2.29115458e-03 8.02824858e-01 1.17265240e-01]\n",
            "   [6.52514349e-01 3.25095831e-01 9.97786974e-01]\n",
            "   [1.16957737e-01 9.56134581e-01 8.69200514e-01]]\n",
            "\n",
            "  [[9.49919066e-01 8.63350339e-01 3.79918178e-01]\n",
            "   [4.84909490e-01 5.12034934e-01 6.43680670e-01]\n",
            "   [9.51452395e-01 3.88399807e-02 7.26480988e-01]\n",
            "   [8.66317787e-01 9.87654502e-01 6.42671588e-01]]\n",
            "\n",
            "  [[9.89609693e-01 4.16216259e-01 3.46490449e-01]\n",
            "   [3.74142608e-01 9.10031426e-01 6.29506376e-01]\n",
            "   [9.33373871e-01 4.36538557e-01 3.16579041e-01]\n",
            "   [1.26751315e-01 6.51758839e-01 2.54970227e-01]]\n",
            "\n",
            "  [[4.22995960e-01 9.73357033e-01 5.19171098e-01]\n",
            "   [9.79224748e-01 2.67977342e-01 5.06856254e-01]\n",
            "   [5.51939484e-01 4.78789802e-01 9.17231918e-01]\n",
            "   [9.18770292e-02 4.14787322e-01 2.03700140e-01]]]\n",
            "\n",
            "\n",
            " [[[5.13138220e-01 6.14970955e-01 7.82409096e-01]\n",
            "   [3.72114487e-01 2.86914115e-01 2.44933604e-01]\n",
            "   [6.99859852e-01 2.40923498e-01 1.90342113e-01]\n",
            "   [2.70205509e-02 6.19168325e-01 9.03194000e-02]]\n",
            "\n",
            "  [[9.91126874e-01 1.26993633e-01 9.59588706e-01]\n",
            "   [7.29746622e-01 6.23303490e-01 4.48294690e-01]\n",
            "   [9.09748947e-01 6.08505586e-01 8.29774353e-01]\n",
            "   [6.06670097e-01 4.66217572e-01 5.77984935e-01]]\n",
            "\n",
            "  [[3.67273310e-01 6.27373940e-01 3.23279556e-01]\n",
            "   [2.92690265e-02 8.86948337e-01 9.54722815e-01]\n",
            "   [7.96060270e-01 5.99631816e-01 4.02830543e-01]\n",
            "   [2.80264807e-01 7.71690349e-01 9.44290622e-01]]\n",
            "\n",
            "  [[3.39592307e-01 3.79125421e-01 1.85337407e-01]\n",
            "   [5.05414550e-01 7.43076930e-01 4.71359772e-01]\n",
            "   [3.80330897e-01 2.17977859e-01 7.11829531e-02]\n",
            "   [2.98446179e-01 5.51785864e-01 2.64996692e-01]]\n",
            "\n",
            "  [[1.39778282e-01 7.83838777e-01 7.53672513e-01]\n",
            "   [9.00427011e-01 5.47748876e-01 8.54529538e-01]\n",
            "   [8.65299246e-01 4.42724681e-01 2.03888042e-01]\n",
            "   [6.67579150e-01 6.89115406e-01 7.18403677e-01]]]]\n"
          ]
        }
      ]
    },
    {
      "cell_type": "markdown",
      "source": [
        "# Using numpy array indexing, update the value 11 to 12 and print the updated array."
      ],
      "metadata": {
        "id": "vXaEJHt9bmXY"
      }
    },
    {
      "cell_type": "code",
      "source": [
        "arr = np.array(\n",
        "[\n",
        "[\n",
        "[1, 2, 3],\n",
        "[4, 5, 6]\n",
        "],\n",
        "[\n",
        "[7, 8, 9],\n",
        "[11, 13, 14]\n",
        "]\n",
        "]\n",
        ")\n",
        "arr[1, 1, 0] = 12\n"
      ],
      "metadata": {
        "id": "r3k8p_SKb0eY"
      },
      "execution_count": 8,
      "outputs": []
    },
    {
      "cell_type": "code",
      "source": [
        "print(arr)"
      ],
      "metadata": {
        "id": "CQb4eY-tcYAj",
        "outputId": "dde1904c-5058-4a45-f922-836dc7b7a3fc",
        "colab": {
          "base_uri": "https://localhost:8080/"
        }
      },
      "execution_count": 9,
      "outputs": [
        {
          "output_type": "stream",
          "name": "stdout",
          "text": [
            "[[[ 1  2  3]\n",
            "  [ 4  5  6]]\n",
            "\n",
            " [[ 7  8  9]\n",
            "  [12 13 14]]]\n"
          ]
        }
      ]
    },
    {
      "cell_type": "markdown",
      "source": [
        "# Using numpy array slicing, update the values 3, 6, 9, and 14 to 100 and print the updated array."
      ],
      "metadata": {
        "id": "oNaJjLPir6Qq"
      }
    },
    {
      "cell_type": "code",
      "source": [
        "arr = np.array(\n",
        "[\n",
        "[\n",
        "[1, 2, 3],\n",
        "[4, 5, 6]\n",
        "],\n",
        "[\n",
        "[7, 8, 9],\n",
        "[11, 13, 14]\n",
        "]\n",
        "]\n",
        ")\n",
        "\n",
        "arr[1, 1, 0] = 12\n",
        "\n",
        "arr[:,:,2] = 100\n",
        "print(arr)"
      ],
      "metadata": {
        "colab": {
          "base_uri": "https://localhost:8080/"
        },
        "id": "aFsqwbmbhpYf",
        "outputId": "0bc45387-8200-4301-8647-75af5fafd464"
      },
      "execution_count": null,
      "outputs": [
        {
          "output_type": "stream",
          "name": "stdout",
          "text": [
            "[[[  1   2 100]\n",
            "  [  4   5 100]]\n",
            "\n",
            " [[  7   8 100]\n",
            "  [ 12  13 100]]]\n"
          ]
        }
      ]
    },
    {
      "cell_type": "markdown",
      "source": [
        "# Create a dictionary representation of the table below and create a pandas DataFrame and print the resulting DataFrame."
      ],
      "metadata": {
        "id": "86btZLT5sGM5"
      }
    },
    {
      "cell_type": "code",
      "source": [
        "import pandas as pd\n",
        "\n",
        "data = {\n",
        "    'Name': ['John', 'Alice', 'Bob', 'Eve'],\n",
        "    'Age': [23, 17, 19, 18],\n",
        "    'Score': [88, 92, 75, 89]\n",
        "}\n",
        "\n",
        "df = pd.DataFrame(data)\n",
        "\n",
        "print(df)"
      ],
      "metadata": {
        "id": "qXZYUAD9iFs0",
        "colab": {
          "base_uri": "https://localhost:8080/"
        },
        "outputId": "7ec10230-7315-4031-b5e0-8f2d708a2484"
      },
      "execution_count": 10,
      "outputs": [
        {
          "output_type": "stream",
          "name": "stdout",
          "text": [
            "    Name  Age  Score\n",
            "0   John   23     88\n",
            "1  Alice   17     92\n",
            "2    Bob   19     75\n",
            "3    Eve   18     89\n"
          ]
        }
      ]
    },
    {
      "cell_type": "markdown",
      "source": [
        "# Show use cases (code examples) of .iloc and .loc for selecting data from the DataFrame."
      ],
      "metadata": {
        "id": "Cfsz2fLss1k1"
      }
    },
    {
      "cell_type": "code",
      "source": [
        "# Select the second row (index position 1)\n",
        "row1 = df.iloc[1]\n",
        "print(row1)\n"
      ],
      "metadata": {
        "colab": {
          "base_uri": "https://localhost:8080/"
        },
        "id": "Md_2AKcxsnOk",
        "outputId": "4bdcc21a-cae5-499f-872f-a022b9cca533"
      },
      "execution_count": 11,
      "outputs": [
        {
          "output_type": "stream",
          "name": "stdout",
          "text": [
            "Name     Alice\n",
            "Age         17\n",
            "Score       92\n",
            "Name: 1, dtype: object\n"
          ]
        }
      ]
    },
    {
      "cell_type": "code",
      "source": [
        "name_score_columns = df.loc[:, ['Name', 'Score']]\n",
        "print(\"\\nUsing .loc to select the 'Name' and 'Score' columns:\")\n",
        "print(name_score_columns)"
      ],
      "metadata": {
        "colab": {
          "base_uri": "https://localhost:8080/"
        },
        "id": "tEtisFQktDqM",
        "outputId": "9455be24-0ab4-4520-92f8-6c0ed6ecd138"
      },
      "execution_count": 12,
      "outputs": [
        {
          "output_type": "stream",
          "name": "stdout",
          "text": [
            "\n",
            "Using .loc to select the 'Name' and 'Score' columns:\n",
            "    Name  Score\n",
            "0   John     88\n",
            "1  Alice     92\n",
            "2    Bob     75\n",
            "3    Eve     89\n"
          ]
        }
      ]
    },
    {
      "cell_type": "markdown",
      "source": [
        "# Filter and print the rows where Age is greater than or equal to 18."
      ],
      "metadata": {
        "id": "rI8IrvvetSF6"
      }
    },
    {
      "cell_type": "code",
      "source": [
        "adults = df.loc[df['Age'] >= 18]\n",
        "print(adults)"
      ],
      "metadata": {
        "colab": {
          "base_uri": "https://localhost:8080/"
        },
        "id": "8jmrcy8atMta",
        "outputId": "173ffe52-fe0e-4efd-a4b6-a1498da43425"
      },
      "execution_count": 13,
      "outputs": [
        {
          "output_type": "stream",
          "name": "stdout",
          "text": [
            "   Name  Age  Score\n",
            "0  John   23     88\n",
            "2   Bob   19     75\n",
            "3   Eve   18     89\n"
          ]
        }
      ]
    },
    {
      "cell_type": "code",
      "source": [],
      "metadata": {
        "id": "1Qh6PD0dtY1y"
      },
      "execution_count": null,
      "outputs": []
    }
  ]
}